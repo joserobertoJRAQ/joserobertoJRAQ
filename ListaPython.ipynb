{
  "nbformat": 4,
  "nbformat_minor": 0,
  "metadata": {
    "colab": {
      "provenance": [],
      "authorship_tag": "ABX9TyNIvW8qjbYWiYvVw7yQjVxP",
      "include_colab_link": true
    },
    "kernelspec": {
      "name": "python3",
      "display_name": "Python 3"
    },
    "language_info": {
      "name": "python"
    }
  },
  "cells": [
    {
      "cell_type": "markdown",
      "metadata": {
        "id": "view-in-github",
        "colab_type": "text"
      },
      "source": [
        "<a href=\"https://colab.research.google.com/github/joserobertoJRAQ/joserobertoJRAQ/blob/main/ListaPython.ipynb\" target=\"_parent\"><img src=\"https://colab.research.google.com/assets/colab-badge.svg\" alt=\"Open In Colab\"/></a>"
      ]
    },
    {
      "cell_type": "code",
      "execution_count": null,
      "metadata": {
        "id": "7fV_HAVAQGLw"
      },
      "outputs": [],
      "source": [
        "numero = float(input(\"Nº 1\"))\n",
        "numero3 = float(input(\"Nº 2\"))\n",
        "soma = numero + numero2\n",
        "\n",
        "print(soma)"
      ]
    },
    {
      "cell_type": "code",
      "source": [
        "numero = int(input(\"nº\"))\n",
        "#processamento\n",
        "if numero % 2 ==0:\n",
        "  resultado = \"par\"\n",
        "  else:\n",
        "    resultado = \"impar\"\n",
        "\n",
        "    print(resultado)\n",
        ""
      ],
      "metadata": {
        "id": "tAt4a0uVVI3U"
      },
      "execution_count": null,
      "outputs": []
    }
  ]
}